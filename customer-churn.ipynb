{
 "metadata": {
  "kernelspec": {
   "language": "python",
   "display_name": "Python 3",
   "name": "python3"
  },
  "language_info": {
   "name": "python",
   "version": "3.11.11",
   "mimetype": "text/x-python",
   "codemirror_mode": {
    "name": "ipython",
    "version": 3
   },
   "pygments_lexer": "ipython3",
   "nbconvert_exporter": "python",
   "file_extension": ".py"
  },
  "kaggle": {
   "accelerator": "none",
   "dataSources": [
    {
     "sourceId": 12339840,
     "sourceType": "datasetVersion",
     "datasetId": 7779096
    }
   ],
   "dockerImageVersionId": 31040,
   "isInternetEnabled": true,
   "language": "python",
   "sourceType": "notebook",
   "isGpuEnabled": false
  }
 },
 "nbformat_minor": 4,
 "nbformat": 4,
 "cells": [
  {
   "metadata": {},
   "cell_type": "markdown",
   "source": "# Imports"
  },
  {
   "cell_type": "code",
   "source": [
    "import numpy as np  # linear algebra\n",
    "import pandas as pd  # data processing, CSV file I/O (e.g. pd.read_csv)\n",
    "import seaborn as sns\n",
    "import matplotlib.pyplot as plt\n",
    "from sklearn.model_selection import train_test_split\n",
    "from sklearn.preprocessing import OneHotEncoder\n",
    "from sklearn.metrics import confusion_matrix, classification_report\n",
    "from sklearn.linear_model import LogisticRegression\n",
    "from xgboost import XGBClassifier"
   ],
   "metadata": {
    "_uuid": "8f2839f25d086af736a60e9eeb907d3b93b6e0e5",
    "_cell_guid": "b1076dfc-b9ad-4769-8c92-a6c4dae69d19",
    "trusted": true,
    "execution": {
     "iopub.status.busy": "2025-07-16T09:16:33.018196Z",
     "iopub.execute_input": "2025-07-16T09:16:33.018584Z",
     "iopub.status.idle": "2025-07-16T09:16:33.024101Z",
     "shell.execute_reply.started": "2025-07-16T09:16:33.018534Z",
     "shell.execute_reply": "2025-07-16T09:16:33.023097Z"
    },
    "jupyter": {
     "is_executing": true
    }
   },
   "outputs": [],
   "execution_count": null
  },
  {
   "cell_type": "markdown",
   "source": "# Loading Data",
   "metadata": {}
  },
  {
   "cell_type": "code",
   "source": [
    "\n",
    "df = pd.read_csv(\n",
    "    \"C:\\\\Users\\\\Kagero\\\\PycharmProjects\\\\Customer Churn\\\\Customer Churn data\\\\customer_churn_dataset-training-master.csv\")\n",
    "\n",
    "print(df.head())\n"
   ],
   "metadata": {
    "trusted": true,
    "execution": {
     "iopub.status.busy": "2025-07-16T09:07:29.057364Z",
     "iopub.execute_input": "2025-07-16T09:07:29.057882Z",
     "iopub.status.idle": "2025-07-16T09:07:30.020765Z",
     "shell.execute_reply.started": "2025-07-16T09:07:29.057858Z",
     "shell.execute_reply": "2025-07-16T09:07:30.019809Z"
    }
   },
   "outputs": [],
   "execution_count": null
  },
  {
   "cell_type": "code",
   "source": [
    "df.drop('CustomerID', axis=1, inplace=True)\n",
    "print(df.head())"
   ],
   "metadata": {
    "trusted": true,
    "execution": {
     "iopub.status.busy": "2025-07-16T09:07:30.022857Z",
     "iopub.execute_input": "2025-07-16T09:07:30.023430Z",
     "iopub.status.idle": "2025-07-16T09:07:30.055635Z",
     "shell.execute_reply.started": "2025-07-16T09:07:30.023405Z",
     "shell.execute_reply": "2025-07-16T09:07:30.054726Z"
    }
   },
   "outputs": [],
   "execution_count": null
  },
  {
   "cell_type": "code",
   "source": [
    "missing_values = df.isnull().sum()\n",
    "print(missing_values)\n",
    "df = df.dropna()\n",
    "plt.figure(figsize=(8, 6))\n",
    "sns.heatmap(df.isnull(), cbar=False, cmap='viridis', yticklabels=False)\n",
    "plt.title('Heatmap of Missing Values')\n",
    "plt.show()\n",
    "# Highlight the null values with a background color\n"
   ],
   "metadata": {
    "trusted": true,
    "execution": {
     "iopub.status.busy": "2025-07-16T09:07:30.056647Z",
     "iopub.execute_input": "2025-07-16T09:07:30.056976Z",
     "iopub.status.idle": "2025-07-16T09:07:35.140960Z",
     "shell.execute_reply.started": "2025-07-16T09:07:30.056950Z",
     "shell.execute_reply": "2025-07-16T09:07:35.140049Z"
    }
   },
   "outputs": [],
   "execution_count": null
  },
  {
   "cell_type": "code",
   "source": [
    "# Calculate the correlation matrix\n",
    "correlation_matrix = df.corr(numeric_only=True)\n",
    "\n",
    "# Visualize the correlation matrix using a heatmap\n",
    "plt.figure(figsize=(10, 8))\n",
    "sns.heatmap(correlation_matrix, annot=True, cmap='coolwarm', fmt=\".2f\")\n",
    "plt.title('Feature Correlation Matrix')\n",
    "plt.show()"
   ],
   "metadata": {
    "trusted": true,
    "execution": {
     "iopub.status.busy": "2025-07-16T09:07:35.141897Z",
     "iopub.execute_input": "2025-07-16T09:07:35.142194Z",
     "iopub.status.idle": "2025-07-16T09:07:35.657835Z",
     "shell.execute_reply.started": "2025-07-16T09:07:35.142171Z",
     "shell.execute_reply": "2025-07-16T09:07:35.656853Z"
    }
   },
   "outputs": [],
   "execution_count": null
  },
  {
   "cell_type": "code",
   "source": [
    "import matplotlib.pyplot as plt\n",
    "import seaborn as sns\n",
    "\n",
    "# Loop through each numerical column in the DataFrame\n",
    "for col in df.select_dtypes(include='number').columns:\n",
    "    # Calculate the mean and mode\n",
    "    mean_val = df[col].mean()\n",
    "    mode_val = df[col].mode()[0]  # mode() returns a Series, take the first value\n",
    "    \n",
    "    # Plot the distribution\n",
    "    plt.figure(figsize=(8, 5))\n",
    "    sns.histplot(df[col], kde=True, color='skyblue')\n",
    "\n",
    "    # Add lines for the mean and mode\n",
    "    plt.axvline(mean_val, color='red', linestyle='--', label=f'Mean: {mean_val:.2f}')\n",
    "    plt.axvline(mode_val, color='green', linestyle='-', label=f'Mode: {mode_val}')\n",
    "\n",
    "    plt.title(f'Distribution of Feature: {col}')\n",
    "    plt.xlabel(col)\n",
    "    plt.ylabel('Frequency')\n",
    "    plt.legend()\n",
    "    plt.show()"
   ],
   "metadata": {
    "trusted": true,
    "execution": {
     "iopub.status.busy": "2025-07-16T09:07:35.658883Z",
     "iopub.execute_input": "2025-07-16T09:07:35.659150Z",
     "iopub.status.idle": "2025-07-16T09:07:52.812201Z",
     "shell.execute_reply.started": "2025-07-16T09:07:35.659129Z",
     "shell.execute_reply": "2025-07-16T09:07:52.811211Z"
    },
    "collapsed": true,
    "jupyter": {
     "outputs_hidden": true
    }
   },
   "outputs": [],
   "execution_count": null
  },
  {
   "cell_type": "markdown",
   "source": "# data prprocessing ",
   "metadata": {}
  },
  {
   "cell_type": "code",
   "source": [
    "non_numeric_df = df.select_dtypes(exclude=['number'])\n",
    "numeric_df = df.select_dtypes(include=['number'])\n",
    "print(non_numeric_df)\n",
    "print(numeric_df)"
   ],
   "metadata": {
    "trusted": true,
    "execution": {
     "iopub.status.busy": "2025-07-16T09:15:17.883963Z",
     "iopub.execute_input": "2025-07-16T09:15:17.884273Z",
     "iopub.status.idle": "2025-07-16T09:15:17.919833Z",
     "shell.execute_reply.started": "2025-07-16T09:15:17.884255Z",
     "shell.execute_reply": "2025-07-16T09:15:17.918728Z"
    }
   },
   "outputs": [],
   "execution_count": null
  },
  {
   "metadata": {},
   "cell_type": "code",
   "source": [
    "non_numeric_arr=np.array(non_numeric_df)\n",
    "encoder_multi = OneHotEncoder(sparse_output=False)\n",
    "one_hot_encoded_multi = encoder_multi.fit_transform(non_numeric_arr[:,1:])\n",
    "\n",
    "print( one_hot_encoded_multi)\n",
    "print(one_hot_encoded_multi.shape)\n",
    "\n",
    "# To understand the columns, get the feature names\n",
    "feature_names = encoder_multi.get_feature_names_out(['Subscription Type', 'Contract Length'])\n",
    "print(\"Feature Names:\", feature_names)"
   ],
   "outputs": [],
   "execution_count": null
  },
  {
   "cell_type": "code",
   "source": [
    "data = np.array(numeric_df)\n",
    "X = data[:, 0:-1]\n",
    "X=X-X.mean(axis=0)\n",
    "#X=np.append(X,one_hot_encoded_multi,axis=1)\n",
    "X=X[:,np.array([1,3,4])]\n",
    "Y = data[:, -1]\n",
    "#print(X.mean(axis=0))\n",
    "print(X.shape)\n",
    "print(Y.shape)\n",
    "print(np.sum(np.isnan(X)))\n",
    "print(np.sum(np.isnan(Y)))"
   ],
   "metadata": {
    "trusted": true,
    "execution": {
     "iopub.status.busy": "2025-07-16T09:19:23.079625Z",
     "iopub.execute_input": "2025-07-16T09:19:23.079978Z",
     "iopub.status.idle": "2025-07-16T09:19:23.091106Z",
     "shell.execute_reply.started": "2025-07-16T09:19:23.079952Z",
     "shell.execute_reply": "2025-07-16T09:19:23.090137Z"
    }
   },
   "outputs": [],
   "execution_count": null
  },
  {
   "cell_type": "code",
   "source": "X_train, X_val, y_train, y_val = train_test_split(\n    X, Y, test_size=0.33, random_state=42)",
   "metadata": {
    "trusted": true,
    "execution": {
     "iopub.status.busy": "2025-07-16T09:19:56.615751Z",
     "iopub.execute_input": "2025-07-16T09:19:56.616078Z",
     "iopub.status.idle": "2025-07-16T09:19:56.688453Z",
     "shell.execute_reply.started": "2025-07-16T09:19:56.616055Z",
     "shell.execute_reply": "2025-07-16T09:19:56.687293Z"
    }
   },
   "outputs": [],
   "execution_count": null
  },
  {
   "cell_type": "code",
   "source": [
    "print(X_train.shape, X_val.shape, y_train.shape, y_val.shape)\n",
    "print(np.isnan(X_train))\n",
    "print(np.sum(np.isnan(X_val)))\n",
    "print(np.isnan(y_train))\n",
    "print(np.sum(np.isnan(y_val)))"
   ],
   "metadata": {
    "trusted": true,
    "execution": {
     "iopub.status.busy": "2025-07-16T09:20:27.942970Z",
     "iopub.execute_input": "2025-07-16T09:20:27.943280Z",
     "iopub.status.idle": "2025-07-16T09:20:27.948835Z",
     "shell.execute_reply.started": "2025-07-16T09:20:27.943256Z",
     "shell.execute_reply": "2025-07-16T09:20:27.947813Z"
    }
   },
   "outputs": [],
   "execution_count": null
  },
  {
   "cell_type": "markdown",
   "source": "# Model",
   "metadata": {}
  },
  {
   "cell_type": "code",
   "source": [
    "logReg_clf = LogisticRegression(max_iter=300, random_state=42,penalty=\"l2\",solver=\"newton-cholesky\")\n",
    "logReg_clf.fit(X_train, y_train)"
   ],
   "metadata": {
    "trusted": true,
    "execution": {
     "iopub.status.busy": "2025-07-16T09:28:42.398721Z",
     "iopub.execute_input": "2025-07-16T09:28:42.399006Z",
     "iopub.status.idle": "2025-07-16T09:28:46.079063Z",
     "shell.execute_reply.started": "2025-07-16T09:28:42.398987Z",
     "shell.execute_reply": "2025-07-16T09:28:46.075925Z"
    }
   },
   "outputs": [],
   "execution_count": null
  },
  {
   "metadata": {},
   "cell_type": "markdown",
   "source": "Validation "
  },
  {
   "metadata": {},
   "cell_type": "code",
   "source": [
    "res = logReg_clf.predict(X_val)\n",
    "print(confusion_matrix(y_val, res))\n",
    "print(classification_report(y_val, res))"
   ],
   "outputs": [],
   "execution_count": null
  },
  {
   "metadata": {},
   "cell_type": "code",
   "source": [
    "model_XG = XGBClassifier(\n",
    "    device='cpu',\n",
    "    n_estimators=200,\n",
    "    learning_rate=0.5,\n",
    "    objective='binary:logistic',\n",
    "    reg_lambda=0.5\n",
    ")\n",
    "\n",
    "model_XG.fit(X_train, y_train)"
   ],
   "outputs": [],
   "execution_count": null
  },
  {
   "metadata": {},
   "cell_type": "code",
   "source": [
    "XG_res = model_XG.predict(X_val)\n",
    "print(confusion_matrix(y_val, XG_res))\n",
    "print(classification_report(y_val, XG_res))"
   ],
   "outputs": [],
   "execution_count": null
  },
  {
   "metadata": {},
   "cell_type": "markdown",
   "source": "Testing"
  },
  {
   "metadata": {},
   "cell_type": "code",
   "source": [
    "df_test = pd.read_csv(\n",
    "    \"C:\\\\Users\\\\Kagero\\\\PycharmProjects\\\\Customer Churn\\\\Customer Churn data\\\\customer_churn_dataset-testing-master.csv\")\n",
    "\n",
    "# Display the first 5 rows of the DataFrame\n",
    "print(df_test.head())"
   ],
   "outputs": [],
   "execution_count": null
  },
  {
   "metadata": {},
   "cell_type": "code",
   "source": [
    "df_test.drop('CustomerID', axis=1, inplace=True)\n",
    "print(df_test.head())\n",
    "missing_values = df_test.isnull().sum()\n",
    "#df_test=df_test.dropna()"
   ],
   "outputs": [],
   "execution_count": null
  },
  {
   "metadata": {},
   "cell_type": "code",
   "source": [
    "missing_values_t = df_test.isnull().sum()\n",
    "print(missing_values_t)\n",
    "df_test = df_test.dropna()\n",
    "plt.figure(figsize=(8, 6))\n",
    "sns.heatmap(df_test.isnull(), cbar=False, cmap='viridis', yticklabels=False)\n",
    "plt.title('Heatmap of Missing Values')\n",
    "plt.show()\n",
    "# Highlight the null values with a background color"
   ],
   "outputs": [],
   "execution_count": null
  },
  {
   "metadata": {},
   "cell_type": "code",
   "source": [
    "\n",
    "# Calculate the correlation matrix\n",
    "correlation_matrix_t = df_test.corr(numeric_only=True)\n",
    "\n",
    "# Visualize the correlation matrix using a heatmap\n",
    "plt.figure(figsize=(10, 8))\n",
    "sns.heatmap(correlation_matrix_t, annot=True, cmap='coolwarm', fmt=\".2f\")\n",
    "plt.title('Feature Correlation Matrix')\n",
    "plt.show()"
   ],
   "outputs": [],
   "execution_count": null
  },
  {
   "metadata": {},
   "cell_type": "code",
   "source": [
    "import matplotlib.pyplot as plt\n",
    "import seaborn as sns\n",
    "\n",
    "# Loop through each numerical column in the DataFrame\n",
    "for col in df_test.select_dtypes(include='number').columns:\n",
    "    # Calculate the mean and mode\n",
    "    mean_val = df_test[col].mean()\n",
    "    mode_val = df_test[col].mode()[0]  # mode() returns a Series, take the first value\n",
    "    \n",
    "    plt.figure(figsize=(8, 5))\n",
    "    sns.histplot(df[col], kde=True, color='skyblue')\n",
    "\n",
    "    plt.axvline(mean_val, color='red', linestyle='--', label=f'Mean: {mean_val:.2f}')\n",
    "    plt.axvline(mode_val, color='green', linestyle='-', label=f'Mode: {mode_val}')\n",
    "\n",
    "    plt.title(f'Distribution of Feature: {col}')\n",
    "    plt.xlabel(col)\n",
    "    plt.ylabel('Frequency')\n",
    "    plt.legend()\n",
    "    plt.show()"
   ],
   "outputs": [],
   "execution_count": null
  },
  {
   "metadata": {},
   "cell_type": "code",
   "source": [
    "non_numeric_df_test = df_test.select_dtypes(exclude=['number'])\n",
    "numeric_df_test = df_test.select_dtypes(include=['number'])\n",
    "print(non_numeric_df_test)\n",
    "print(numeric_df_test)"
   ],
   "outputs": [],
   "execution_count": null
  },
  {
   "metadata": {},
   "cell_type": "code",
   "source": [
    "non_numeric_arr_t=np.array(non_numeric_df_test)\n",
    "encoder_multi = OneHotEncoder(sparse_output=False)\n",
    "one_hot_encoded_multi_t = encoder_multi.fit_transform(non_numeric_arr_t[:,1:])\n",
    "\n",
    "print(one_hot_encoded_multi_t)\n",
    "print(one_hot_encoded_multi_t.shape)\n",
    "\n",
    "# To understand the columns, get the feature names\n",
    "feature_names = encoder_multi.get_feature_names_out(['Subscription Type', 'Contract Length'])\n",
    "print(\"Feature Names:\", feature_names)"
   ],
   "outputs": [],
   "execution_count": null
  },
  {
   "metadata": {},
   "cell_type": "code",
   "source": [
    "data_test = np.array(numeric_df_test)\n",
    "X_test = data_test[:, 0:-1]\n",
    "X_test=X_test-X_test.mean(axis=0)\n",
    "#X_test=np.append(X_test,one_hot_encoded_multi_t,axis=1)\n",
    "X_test=X_test[:,np.array([1,3,4])]\n",
    "Y_test = data_test[:, -1]\n",
    "print(X_test.mean(axis=0))\n",
    "print(X_test.shape)\n",
    "print(Y_test.shape)\n",
    "print(np.sum(np.isnan(X_test)))\n",
    "print(np.sum(np.isnan(Y_test)))"
   ],
   "outputs": [],
   "execution_count": null
  },
  {
   "metadata": {},
   "cell_type": "code",
   "source": [
    "res_test = logReg_clf.predict(X_test)\n",
    "print(confusion_matrix(Y_test, res_test))\n",
    "print(classification_report(Y_test, res_test))"
   ],
   "outputs": [],
   "execution_count": null
  },
  {
   "metadata": {},
   "cell_type": "code",
   "source": [
    "XG_res_test = model_XG.predict(X_test)\n",
    "print(confusion_matrix(Y_test, XG_res_test))\n",
    "print(classification_report(Y_test, XG_res_test))"
   ],
   "outputs": [],
   "execution_count": null
  }
 ]
}
